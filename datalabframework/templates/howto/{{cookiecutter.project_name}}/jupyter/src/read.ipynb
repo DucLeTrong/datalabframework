{
 "cells": [
  {
   "cell_type": "code",
   "execution_count": 2,
   "metadata": {},
   "outputs": [],
   "source": [
    "import datalabframework as dlf"
   ]
  },
  {
   "cell_type": "code",
   "execution_count": 3,
   "metadata": {},
   "outputs": [
    {
     "name": "stdout",
     "output_type": "stream",
     "text": [
      " --packages org.xerial:sqlite-jdbc:3.23.1,mysql:mysql-connector-java:8.0.12,org.postgresql:postgresql:42.2.5 pyspark-shell\n"
     ]
    }
   ],
   "source": [
    "engine = dlf.engines.get('spark')\n",
    "spark = engine.context()"
   ]
  },
  {
   "cell_type": "markdown",
   "metadata": {},
   "source": [
    "### Local file system"
   ]
  },
  {
   "cell_type": "code",
   "execution_count": 14,
   "metadata": {},
   "outputs": [
    {
     "name": "stdout",
     "output_type": "stream",
     "text": [
      "+-------------+----------------+-----------+--------------+---------+-------------------+--------------------+-------+----+---------+-------+-------+\n",
      "|fixed acidity|volatile acidity|citric acid|residual sugar|chlorides|free sulfur dioxide|total sulfur dioxide|density|  pH|sulphates|alcohol|quality|\n",
      "+-------------+----------------+-----------+--------------+---------+-------------------+--------------------+-------+----+---------+-------+-------+\n",
      "|            7|            0.27|       0.36|          20.7|    0.045|                 45|                 170|  1.001|   3|     0.45|    8.8|      6|\n",
      "|          6.3|             0.3|       0.34|           1.6|    0.049|                 14|                 132|  0.994| 3.3|     0.49|    9.5|      6|\n",
      "|          8.1|            0.28|        0.4|           6.9|     0.05|                 30|                  97| 0.9951|3.26|     0.44|   10.1|      6|\n",
      "|          7.2|            0.23|       0.32|           8.5|    0.058|                 47|                 186| 0.9956|3.19|      0.4|    9.9|      6|\n",
      "|          7.2|            0.23|       0.32|           8.5|    0.058|                 47|                 186| 0.9956|3.19|      0.4|    9.9|      6|\n",
      "+-------------+----------------+-----------+--------------+---------+-------------------+--------------------+-------+----+---------+-------+-------+\n",
      "only showing top 5 rows\n",
      "\n"
     ]
    }
   ],
   "source": [
    "#csv\n",
    "df = engine.read('.whites')\n",
    "df.show(5)"
   ]
  },
  {
   "cell_type": "code",
   "execution_count": 7,
   "metadata": {},
   "outputs": [
    {
     "name": "stdout",
     "output_type": "stream",
     "text": [
      "+-----------+----------+-----------+----------+-------+\n",
      "|petalLength|petalWidth|sepalLength|sepalWidth|species|\n",
      "+-----------+----------+-----------+----------+-------+\n",
      "|        1.4|       0.2|        5.1|       3.5| setosa|\n",
      "|        1.4|       0.2|        4.9|       3.0| setosa|\n",
      "|        1.3|       0.2|        4.7|       3.2| setosa|\n",
      "|        1.5|       0.2|        4.6|       3.1| setosa|\n",
      "|        1.4|       0.2|        5.0|       3.6| setosa|\n",
      "+-----------+----------+-----------+----------+-------+\n",
      "only showing top 5 rows\n",
      "\n"
     ]
    }
   ],
   "source": [
    "#json\n",
    "df = engine.read('.iris')\n",
    "df.show(5)"
   ]
  },
  {
   "cell_type": "code",
   "execution_count": 8,
   "metadata": {},
   "outputs": [
    {
     "name": "stdout",
     "output_type": "stream",
     "text": [
      "+--------+------+------+-----+---+------------+--------------+--------------+\n",
      "|Diameter|Height|Length|Rings|Sex|Shell weight|Shucked weight|Viscera weight|\n",
      "+--------+------+------+-----+---+------------+--------------+--------------+\n",
      "|   0.365| 0.095| 0.455| 0.15|  M|       0.101|         0.514|        0.2245|\n",
      "|   0.265|  0.09|  0.35| 0.07|  M|      0.0485|        0.2255|        0.0995|\n",
      "|    0.42| 0.135|  0.53| 0.21|  F|      0.1415|         0.677|        0.2565|\n",
      "|   0.365| 0.125|  0.44|0.155|  M|       0.114|         0.516|        0.2155|\n",
      "|   0.255|  0.08|  0.33|0.055|  I|      0.0395|         0.205|        0.0895|\n",
      "+--------+------+------+-----+---+------------+--------------+--------------+\n",
      "only showing top 5 rows\n",
      "\n"
     ]
    }
   ],
   "source": [
    "#jsonl\n",
    "df = engine.read('.abalone')\n",
    "df.show(5)"
   ]
  },
  {
   "cell_type": "markdown",
   "metadata": {},
   "source": [
    "### SQLite"
   ]
  },
  {
   "cell_type": "code",
   "execution_count": 9,
   "metadata": {},
   "outputs": [
    {
     "name": "stdout",
     "output_type": "stream",
     "text": [
      "+-------+--------------------+--------+\n",
      "|AlbumId|               Title|ArtistId|\n",
      "+-------+--------------------+--------+\n",
      "|      1|For Those About T...|       1|\n",
      "|      2|   Balls to the Wall|       2|\n",
      "|      3|   Restless and Wild|       2|\n",
      "|      4|   Let There Be Rock|       1|\n",
      "|      5|            Big Ones|       3|\n",
      "|      6|  Jagged Little Pill|       4|\n",
      "|      7|            Facelift|       5|\n",
      "|      8|      Warner 25 Anos|       6|\n",
      "|      9|Plays Metallica B...|       7|\n",
      "|     10|          Audioslave|       8|\n",
      "|     11|        Out Of Exile|       8|\n",
      "|     12| BackBeat Soundtrack|       9|\n",
      "|     13|The Best Of Billy...|      10|\n",
      "|     14|Alcohol Fueled Br...|      11|\n",
      "|     15|Alcohol Fueled Br...|      11|\n",
      "|     16|       Black Sabbath|      12|\n",
      "|     17|Black Sabbath Vol...|      12|\n",
      "|     18|          Body Count|      13|\n",
      "|     19|    Chemical Wedding|      14|\n",
      "|     20|The Best Of Buddy...|      15|\n",
      "+-------+--------------------+--------+\n",
      "only showing top 20 rows\n",
      "\n"
     ]
    }
   ],
   "source": [
    "df = engine.read('.albums')\n",
    "df.show()"
   ]
  },
  {
   "cell_type": "markdown",
   "metadata": {},
   "source": [
    "### MYSQL"
   ]
  },
  {
   "cell_type": "code",
   "execution_count": 10,
   "metadata": {},
   "outputs": [
    {
     "name": "stdout",
     "output_type": "stream",
     "text": [
      "jdbc:mysql://localhost:3306/sakila\n",
      "+--------+----------+------------+-------------------+\n",
      "|actor_id|first_name|   last_name|        last_update|\n",
      "+--------+----------+------------+-------------------+\n",
      "|       1|  PENELOPE|     GUINESS|2006-02-15 11:34:33|\n",
      "|       2|      NICK|    WAHLBERG|2006-02-15 11:34:33|\n",
      "|       3|        ED|       CHASE|2006-02-15 11:34:33|\n",
      "|       4|  JENNIFER|       DAVIS|2006-02-15 11:34:33|\n",
      "|       5|    JOHNNY|LOLLOBRIGIDA|2006-02-15 11:34:33|\n",
      "|       6|     BETTE|   NICHOLSON|2006-02-15 11:34:33|\n",
      "|       7|     GRACE|      MOSTEL|2006-02-15 11:34:33|\n",
      "|       8|   MATTHEW|   JOHANSSON|2006-02-15 11:34:33|\n",
      "|       9|       JOE|       SWANK|2006-02-15 11:34:33|\n",
      "|      10| CHRISTIAN|       GABLE|2006-02-15 11:34:33|\n",
      "|      11|      ZERO|        CAGE|2006-02-15 11:34:33|\n",
      "|      12|      KARL|       BERRY|2006-02-15 11:34:33|\n",
      "|      13|       UMA|        WOOD|2006-02-15 11:34:33|\n",
      "|      14|    VIVIEN|      BERGEN|2006-02-15 11:34:33|\n",
      "|      15|      CUBA|     OLIVIER|2006-02-15 11:34:33|\n",
      "|      16|      FRED|     COSTNER|2006-02-15 11:34:33|\n",
      "|      17|     HELEN|      VOIGHT|2006-02-15 11:34:33|\n",
      "|      18|       DAN|        TORN|2006-02-15 11:34:33|\n",
      "|      19|       BOB|     FAWCETT|2006-02-15 11:34:33|\n",
      "|      20|   LUCILLE|       TRACY|2006-02-15 11:34:33|\n",
      "+--------+----------+------------+-------------------+\n",
      "only showing top 20 rows\n",
      "\n"
     ]
    }
   ],
   "source": [
    "df = engine.read('.actor')\n",
    "df.show()"
   ]
  },
  {
   "cell_type": "markdown",
   "metadata": {},
   "source": [
    "### Postgres"
   ]
  },
  {
   "cell_type": "code",
   "execution_count": 11,
   "metadata": {},
   "outputs": [
    {
     "name": "stdout",
     "output_type": "stream",
     "text": [
      "jdbc:postgresql://localhost:5432/sportsdb_sample\n",
      "+---+--------------+------------+------------+\n",
      "| id|      team_key|publisher_id|home_site_id|\n",
      "+---+--------------+------------+------------+\n",
      "|  1| l.mlb.com-t.6|           1|        null|\n",
      "|  2| l.mlb.com-t.7|           1|        null|\n",
      "|  3| l.mlb.com-t.8|           1|        null|\n",
      "|  4| l.mlb.com-t.9|           1|        null|\n",
      "|  5|l.mlb.com-t.10|           1|        null|\n",
      "|  6| l.mlb.com-t.1|           1|        null|\n",
      "|  7| l.mlb.com-t.2|           1|        null|\n",
      "|  8| l.mlb.com-t.3|           1|        null|\n",
      "|  9| l.mlb.com-t.4|           1|        null|\n",
      "| 10| l.mlb.com-t.5|           1|        null|\n",
      "| 11|l.mlb.com-t.11|           1|        null|\n",
      "| 12|l.mlb.com-t.12|           1|        null|\n",
      "| 13|l.mlb.com-t.13|           1|        null|\n",
      "| 14|l.mlb.com-t.14|           1|        null|\n",
      "| 15|l.mlb.com-t.20|           1|        null|\n",
      "| 16|l.mlb.com-t.21|           1|        null|\n",
      "| 17|l.mlb.com-t.22|           1|        null|\n",
      "| 18|l.mlb.com-t.23|           1|        null|\n",
      "| 19|l.mlb.com-t.24|           1|        null|\n",
      "| 20|l.mlb.com-t.25|           1|        null|\n",
      "+---+--------------+------------+------------+\n",
      "only showing top 20 rows\n",
      "\n"
     ]
    }
   ],
   "source": [
    "df = engine.read('.teams')\n",
    "df.show()"
   ]
  }
 ],
 "metadata": {
  "kernelspec": {
   "display_name": "Python 3",
   "language": "python",
   "name": "python3"
  },
  "language_info": {
   "codemirror_mode": {
    "name": "ipython",
    "version": 3
   },
   "file_extension": ".py",
   "mimetype": "text/x-python",
   "name": "python",
   "nbconvert_exporter": "python",
   "pygments_lexer": "ipython3",
   "version": "3.6.5"
  }
 },
 "nbformat": 4,
 "nbformat_minor": 2
}
